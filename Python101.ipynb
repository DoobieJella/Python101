{
 "cells": [
  {
   "cell_type": "markdown",
   "id": "ceeb2c6b",
   "metadata": {},
   "source": [
    "# Python101"
   ]
  },
  {
   "cell_type": "markdown",
   "id": "42778a86",
   "metadata": {},
   "source": [
    "Summary of https://wikidocs.net/book/1"
   ]
  },
  {
   "cell_type": "markdown",
   "id": "7fe20787",
   "metadata": {},
   "source": [
    "## Table of Contents\n",
    "\n",
    "* [1. Data Types](#chap1)\n",
    "    * [1.1 Numeric](#1.1)\n",
    "        * [1.1.1 Numeric Operators](#1.1.1)\n",
    "    * [1.2 String](#1.2)\n",
    "        * [1.2.1 Escape Codes](#1.2.1)\n",
    "        * [1.2.2 String Operators](#1.2.2)\n",
    "        * [1.2.3 String Formatting](#1.2.3)\n",
    "        * [1.2.4 String Functions](#1.2.4)\n",
    "    * [1.3 List](#1.3)\n",
    "        * [1.3.1 List Functions](#1.3.1)\n",
    "    * [1.4 Tuple](#1.4)\n",
    "    * [1.5 Dictionary](#1.5)\n",
    "        * [1.5.1 Dictionary Functions](#1.5.1)\n",
    "    * [1.6 Set](#1.6)\n",
    "    * [1.7 Boolean](#1.7)\n",
    "    * [1.8 Assigning Variables](#1.8)\n",
    "* [2. Statements](#chap2)\n",
    "    * [2.1 if Statement](#2.1)\n",
    "    * [2.2 in Statement](#2.2)\n",
    "    * [2.3 while Statement](#2.3)\n",
    "    * [2.4 for Statement](#2.4)\n",
    "* [3. Function](#chap3)\n",
    "    * [3.1 Various Useful Functions](#3.1)\n",
    "    * [3.2 Basic Syntax of Function](#3.2)\n",
    "    * [3.3 User Input](#3.3)\n",
    "    * [3.4 Read and Write Files](#3.4)\n",
    "* [4. Class](#chap4)\n",
    "    * [4.1 Basic Syntax of Class](#4.1)\n",
    "    * [4.2 Inheritance](#4.2)\n",
    "    * [4.3 Method Override](#4.3)\n",
    "    * [4,4 Class Variable](#4.4)\n",
    "* [5. Module](#chap5)\n",
    "    * [5.1 Basic Syntax of Module](#5.1)\n",
    "* [6. Package](#chap6)"
   ]
  },
  {
   "cell_type": "markdown",
   "id": "547a94b0",
   "metadata": {},
   "source": [
    "# 1. Data Types (자료형) <a class=\"anchor\" id=\"chap1\"></a>"
   ]
  },
  {
   "cell_type": "markdown",
   "id": "82c079d8",
   "metadata": {},
   "source": [
    "- Check the type of data: a = **True**, **type(**a**)** *(= class ‘bool’)*"
   ]
  },
  {
   "cell_type": "code",
   "execution_count": 1,
   "id": "f50e54f3",
   "metadata": {},
   "outputs": [
    {
     "data": {
      "text/plain": [
       "bool"
      ]
     },
     "execution_count": 1,
     "metadata": {},
     "output_type": "execute_result"
    }
   ],
   "source": [
    "a = True\n",
    "type(a)"
   ]
  },
  {
   "cell_type": "markdown",
   "id": "de955030",
   "metadata": {},
   "source": [
    "## 1.1 Numeric (숫자형) <a class=\"anchor\" id=\"1.1\"></a>"
   ]
  },
  {
   "cell_type": "markdown",
   "id": "0d68a5fc",
   "metadata": {},
   "source": [
    "- Integer (정수형): a = 2\n",
    "- Floating-point (실수형): a = 1.2 , a = 4.8e2\n",
    "- Octal (8진수): a = 0o23\n",
    "- Hexadecimal (16진수): a = 0xa2d"
   ]
  },
  {
   "cell_type": "code",
   "execution_count": 3,
   "id": "6498bc39",
   "metadata": {},
   "outputs": [
    {
     "data": {
      "text/plain": [
       "(int, float, int, int)"
      ]
     },
     "execution_count": 3,
     "metadata": {},
     "output_type": "execute_result"
    }
   ],
   "source": [
    "a = 2\n",
    "b = 1.2\n",
    "c = 0o23\n",
    "d = 0xa2d\n",
    "\n",
    "type(a), type(b), type(c), type(d)"
   ]
  },
  {
   "cell_type": "markdown",
   "id": "c1b91806",
   "metadata": {},
   "source": [
    "### 1.1.1 Numeric Operators <a class=\"anchor\" id=\"1.1.1\"></a>"
   ]
  },
  {
   "cell_type": "markdown",
   "id": "bcc6c2cf",
   "metadata": {},
   "source": [
    "- Arithmetic operators: a **+** b, a **–** b, a * b, a **/** b\n",
    "- Power: 7 ** 3 *(= 7^3)*\n",
    "- Remainder: 7 **%** 3 *(= 1)*\n",
    "- Quotient: 7 **//** 3 *(= 2)*"
   ]
  },
  {
   "cell_type": "code",
   "execution_count": 7,
   "id": "14075b46",
   "metadata": {},
   "outputs": [
    {
     "name": "stdout",
     "output_type": "stream",
     "text": [
      "10 -4 21 0.42857142857142855\n",
      "343\n",
      "1\n",
      "2\n"
     ]
    }
   ],
   "source": [
    "a = 3\n",
    "b = 7\n",
    "print(a+b, a-b, a*b, a/b)\n",
    "print(b**a)\n",
    "print(b%a)\n",
    "print(b//a)"
   ]
  },
  {
   "cell_type": "markdown",
   "id": "c389a7b2",
   "metadata": {},
   "source": [
    "## 1.2 String (문자열) <a class=\"anchor\" id=\"1.2\"></a>"
   ]
  },
  {
   "cell_type": "markdown",
   "id": "a9fae4dc",
   "metadata": {},
   "source": [
    "- Strings (문자열): “Hello”, ‘Hello’, “““Hello”””, ‘‘‘Hello’’’\n",
    "- String objects are immutable; you cannot change individual characters within string objects."
   ]
  },
  {
   "cell_type": "markdown",
   "id": "a549731c",
   "metadata": {},
   "source": [
    "### 1.2.1 Escape Codes (특수기호)<a class=\"anchor\" id=\"1.2.1\"></a>"
   ]
  },
  {
   "cell_type": "markdown",
   "id": "65969694",
   "metadata": {},
   "source": [
    "- **/n**: next line\n",
    "- **/t**: tab\n",
    "- **//**: add backslash\n",
    "- **/’**: add ‘\n",
    "- **/”**: add “"
   ]
  },
  {
   "cell_type": "code",
   "execution_count": 12,
   "id": "375e31bc",
   "metadata": {},
   "outputs": [
    {
     "name": "stdout",
     "output_type": "stream",
     "text": [
      "Hello \n",
      "World\tMy\\Name'is\"Byungho\n"
     ]
    }
   ],
   "source": [
    "print('Hello \\nWorld\\tMy\\\\Name\\'is\\\"Byungho')"
   ]
  },
  {
   "cell_type": "markdown",
   "id": "b5ed1b8a",
   "metadata": {},
   "source": [
    "### 1.2.2 String Operators <a class=\"anchor\" id=\"1.2.2\"></a>"
   ]
  },
  {
   "cell_type": "markdown",
   "id": "b0fee9b0",
   "metadata": {},
   "source": [
    "- Addition: “Angela” **+** “ is lovely” *(= “Angela is lovely”)*\n",
    "- Multiplication: “Angela” * 2 *(= “AngelaAngela”)*\n",
    "- Indexing string: a = “Angela is lovely” *(a[3] = “e”, a[6] = “ ”, a[-1] = “y”)*\n",
    "- Slicing string: a = “Angela is lovely” *(a[2:6] = “gela”, a[10:] = “lovely”, a[:5] = “Angel”)*"
   ]
  },
  {
   "cell_type": "code",
   "execution_count": 13,
   "id": "7de5a603",
   "metadata": {},
   "outputs": [
    {
     "name": "stdout",
     "output_type": "stream",
     "text": [
      "Angelais lovely\n",
      "AngelaAngela\n",
      "e   y\n",
      "gela lovely Angel\n"
     ]
    }
   ],
   "source": [
    "a = \"Angela is lovely\"\n",
    "\n",
    "print(\"Angela\" + \"is lovely\")\n",
    "print(\"Angela\"*2)\n",
    "print(a[3], a[6], a[-1])\n",
    "print(a[2:6], a[10:], a[:5])"
   ]
  },
  {
   "cell_type": "markdown",
   "id": "7f007e48",
   "metadata": {},
   "source": [
    "### 1.2.3 String Formatting <a class=\"anchor\" id=\"1.2.3\"></a>"
   ]
  },
  {
   "cell_type": "markdown",
   "id": "00fccd82",
   "metadata": {},
   "source": [
    "- “We ate **%s** for **%s**.” **%** (“chicken”, “dinner”) *(%s: string, %c: character, %d: integer, %f: floating-point, %%: percent)*\n",
    "- “We ate **{0}** for **{1}**”**.format**(“chicken”, “dinner”) \n",
    "- “We ate **{food}** for **{mealtime}**”**.format**(food = “chicken”, mealtime = “dinner”)\n",
    "- **f**\"We ate **{x}** for **{y}**\""
   ]
  },
  {
   "cell_type": "code",
   "execution_count": 9,
   "id": "1f2b018c",
   "metadata": {},
   "outputs": [
    {
     "name": "stdout",
     "output_type": "stream",
     "text": [
      "We ate chicken for dinner.\n",
      "We ate chicken for dinner.\n",
      "We ate chicken for dinner.\n",
      "We ate chicken for dinner\n"
     ]
    }
   ],
   "source": [
    "print(\"We ate %s for %s.\" % (\"chicken\", \"dinner\"))\n",
    "print(\"We ate {0} for {1}.\".format(\"chicken\", \"dinner\"))\n",
    "print(\"We ate {food} for {mealtime}.\".format(food = \"chicken\", mealtime = \"dinner\"))\n",
    "\n",
    "food = 'chicken'\n",
    "mealtime = 'dinner'\n",
    "print(f\"We ate {food} for {mealtime}\")"
   ]
  },
  {
   "cell_type": "markdown",
   "id": "9bbfe3d9",
   "metadata": {},
   "source": [
    "### 1.2.4 String Functions <a class=\"anchor\" id=\"1.2.4\"></a>"
   ]
  },
  {
   "cell_type": "markdown",
   "id": "75ea6b68",
   "metadata": {},
   "source": [
    "- Length of a string: **len**(“Angela”) *(= 6)*\n",
    "- Counting specific character: a = “banana”, a.**count**(‘n’) *(= 2)*\n",
    "- Find the first index of a character: a = “awesome”, a.**find**(‘e’) *(= 2)*, a.**find**(‘q’) *(=-1)*\n",
    "- Find the first index of a character: a = “awesome”, a.**index**(‘e’) *(= 2)*, a.**index**(‘q’) *(= error)*\n",
    "- Insert a certain string in between a string, list, etc: “,”.**join**(‘abcd’) *(= ‘a,b,c,d’)*\n",
    "- Change string to upper/lower case: a = “Hi”, a.**upper()** *(= “HI”)*, a.**lower()** *(= “hi”)*\n",
    "- Erase blank space in string: a = “  Hi  ”, a.**lstrip()** *(= “Hi  ”)*, a.**rstrip()** *(= “  Hi”)*, a.**strip()** *(= “Hi”)*\n",
    "- Replace characters in string: a = “she is beautiful”, a.**replace**(“beautiful”, “pretty”) *(= “she is pretty”)*\n",
    "- Split string into a list: a = “I am Eric”, a.**split**() *(= [“I”, “am”, “Eric”])*, b = “banana nana”, b.**split**(“n”) *(= [“ba”, “a”, “a ”, “a”, “a”])*"
   ]
  },
  {
   "cell_type": "code",
   "execution_count": 21,
   "id": "574e96e3",
   "metadata": {},
   "outputs": [
    {
     "name": "stdout",
     "output_type": "stream",
     "text": [
      "6\n",
      "2\n",
      "3 -1\n",
      "A,n,g,e,l,a\n",
      "ANGELA angela\n",
      "Hi   Hi Hi\n",
      "Antarctica\n",
      "['my', 'name', 'is', 'Eric'] ['ba', 'a', 'a']\n"
     ]
    }
   ],
   "source": [
    "a = 'Angela'\n",
    "b = 'banana'\n",
    "c = ' Hi '\n",
    "d = 'my name is Eric'\n",
    "\n",
    "print(len(a))\n",
    "print(b.count('n'))\n",
    "print(a.find('e'), a.find('q'))\n",
    "print(','.join(a))\n",
    "print(a.upper(), a.lower())\n",
    "print(c.lstrip(), c.rstrip(), c.strip())\n",
    "print(a.replace('gel', 'tarctic'))\n",
    "print(d.split(), b.split('n'))"
   ]
  },
  {
   "cell_type": "markdown",
   "id": "15ea8cf9",
   "metadata": {},
   "source": [
    "## 1.3 List(리스트형) <a class=\"anchor\" id=\"1.3\"></a>"
   ]
  },
  {
   "cell_type": "markdown",
   "id": "26e668e2",
   "metadata": {},
   "source": [
    "- List is a set of objects. a = [1, “a”, [3, 4]]. \n",
    "- An empty list can be defined by: a = **list**()."
   ]
  },
  {
   "cell_type": "markdown",
   "id": "7f29dc40",
   "metadata": {},
   "source": [
    "### 1.3.1 List Functions <a class=\"anchor\" id=\"1.3.1\"></a>"
   ]
  },
  {
   "cell_type": "markdown",
   "id": "76d28463",
   "metadata": {},
   "source": [
    "- Indexing, slicing, addition and multiplication of lists works the same as strings.\n",
    "- Length of a list: a = [1, 2, 3], **len**(a) *(= 3)*\n",
    "- Delete element of a list: a = [1, 2, 3], **del** a[2] *(a = [1, 2])*\n",
    "- Add an element at the end of a list: a = [1, 2, 3], a.**append**(5) *(a = [1, 2, 3, 5])*\n",
    "- Sort a list in ascending order: a = [2, 3, 5, 1], a.**sort**() *(a = [1, 2, 3, 5])*\n",
    "- Reverse a list: a = [1, 2, 3, 4], a.**reverse**() *(a = [4, 3, 2, 1])*\n",
    "- Return the index of a specific element within a list: a = [1, 2, 3], a.**index**(2) *(= 1)*, a.**index(4)** *(= error)*\n",
    "- Remove the first specific element within a list: a = [1, 2, 3, 2], a.**remove**(2) *(a = [1, 3, 2])*\n",
    "- Return the number of occurrence of an element within a list: a = [1, 2, 3, 1], a.**count**(1) *(= 2)*\n",
    "- Extend a list to an existing list: a = [1, 2, 3], b = [“a”, “b”], a.**extend**(b) *(a = [1, 2, 3, “a”, “b”])*"
   ]
  },
  {
   "cell_type": "code",
   "execution_count": 24,
   "id": "933a0161",
   "metadata": {},
   "outputs": [
    {
     "name": "stdout",
     "output_type": "stream",
     "text": [
      "length of a:  4\n",
      "removed element in index 2, a =  [1, 2, 4]\n",
      "appended element 5, a =  [1, 2, 4, 5]\n",
      "sorted the list, a =  [1, 2, 4, 5]\n",
      "reversed the list, a =  [5, 4, 2, 1]\n",
      "index of element 2:  2 index of element 5:  0\n",
      "removed the first occuring 2 in the list, a =  [5, 4, 1]\n",
      "numer of occurence of element 1 :  1\n",
      "extended the list [5, 6], a =  [5, 4, 1, 5, 6]\n"
     ]
    }
   ],
   "source": [
    "a = [1, 2, 3, 4]\n",
    "\n",
    "print('length of a: ',len(a))\n",
    "del a[2]\n",
    "print('removed element in index 2, a = ', a)\n",
    "a.append(5)\n",
    "print('appended element 5, a = ', a)\n",
    "a.sort()\n",
    "print('sorted the list, a = ', a)\n",
    "a.reverse()\n",
    "print('reversed the list, a = ', a)\n",
    "print('index of element 2: ', a.index(2), 'index of element 5: ', a.index(5))\n",
    "a.remove(2)\n",
    "print('removed the first occuring 2 in the list, a = ', a)\n",
    "print('numer of occurence of element 1 : ', a.count(1))\n",
    "a.extend([5, 6])\n",
    "print('extended the list [5, 6], a = ', a)"
   ]
  },
  {
   "cell_type": "markdown",
   "id": "ccd91229",
   "metadata": {},
   "source": [
    "## 1.4 Tuple <a class=\"anchor\" id=\"1.4\"></a>"
   ]
  },
  {
   "cell_type": "markdown",
   "id": "ba6e2848",
   "metadata": {},
   "source": [
    "- Tuples are similar to lists but with several differences.\n",
    "- While lists are written in **[]**, tuples are written in **()**. \n",
    "- While elements in lists can be edited, removed or added, elements in tuples cannot be altered.\n",
    "- Tuple works the same as lists, except for altering elements within tuples."
   ]
  },
  {
   "cell_type": "markdown",
   "id": "fc71f8f6",
   "metadata": {},
   "source": [
    "## 1.5 Dictionary <a class=\"anchor\" id=\"1.5\"></a>"
   ]
  },
  {
   "cell_type": "markdown",
   "id": "49ab2c6c",
   "metadata": {},
   "source": [
    "- Dictionaries, also known as associative arrays or hash, is a data type that holds ‘keys’ and ‘values’ as a pair.\n",
    "- The difference that dictionaries have compared to lists and tuples is that they can obtain values from keys, rather than sequential search.\n",
    "- A standard dictionary has the following format: {key1: value1, key2: value2, key3: value3, …}\n",
    "- An empty dictionary can be defined by: a = **{}**\n",
    "- The key value in a dictionary is unique, therefore assigning multiple values for the same key would only result in returning one value.\n",
    "- Lists cannot be used as keys."
   ]
  },
  {
   "cell_type": "markdown",
   "id": "be3c1864",
   "metadata": {},
   "source": [
    "### 1.5.1 Dictionary Functions <a class=\"anchor\" id=\"1.5.1\"></a>"
   ]
  },
  {
   "cell_type": "markdown",
   "id": "566da7d4",
   "metadata": {},
   "source": [
    "- Adding element to dictionary: a = {1: ‘a’}, a[‘eric’] = 23 *(a = {1: ‘a’, ‘eric’: 23})*\n",
    "- Removing element from dictionary: a = {‘name’: ‘Eric’, ‘Age’: 23, ‘Gender’: ‘male’}, **del** a[‘Gender’] ((a = {‘name’: ‘Eric’, ‘Age’: 23})(\n",
    "- Remove an element by key and return its value: a = {‘name’: ‘Eric’, ‘Age’: 23, ‘Gender’: ‘male’}, a.**pop**(‘Gender’) *(= ‘male’, a = {‘name’: ‘Eric’, ‘Age’: 23})*\n",
    "- Return keys of a dictionary: a = {‘name’: ‘Eric’, ‘Age’: 23, ‘Gender’: ‘male’}, a.**keys**() *(= dict_keys([‘name’, ‘Age’, ‘Gender’]))*\n",
    "- Return Values of a dictionary: a = {‘name’: ‘Eric’, ‘Age’: 23, ‘Gender’: ‘male’}, a.**values**() *(= dict_values([‘Eric’, 23, ‘male’]))*\n",
    "- Return a certain value with a key: a = {‘name’: ‘Eric’, ‘Age’: 23, ‘Gender’: ‘male’}, a.**get**(‘name’) *(= ‘Eric’, a.get(‘birthday’) = None)* \n",
    "- Check if a certain key is in the dictionary: a = {‘name’: ‘Eric’, ‘Age’: 23, ‘Gender’: ‘male’}, ‘name’ **in** a *(= True)*"
   ]
  },
  {
   "cell_type": "code",
   "execution_count": 5,
   "id": "a7874a39",
   "metadata": {},
   "outputs": [
    {
     "name": "stdout",
     "output_type": "stream",
     "text": [
      "{'name': 'a', 'age': 24, 'gender': 'male', 'wife': 'Angela'}\n",
      "{'name': 'a', 'age': 24, 'wife': 'Angela'}\n",
      "Keys of dictionary 'Eric':  dict_keys(['name', 'age', 'wife'])\n",
      "Values of dictionary 'Eric':  dict_values(['a', 24, 'Angela'])\n",
      "Value corresponding to key 'wife':  Angela\n",
      "Is key 'gender' in dictonary 'Eric'?:  False\n"
     ]
    }
   ],
   "source": [
    "Eric = {'name': 'a', 'age': 24, 'gender': 'male'}\n",
    "\n",
    "Eric['wife'] = 'Angela'\n",
    "print(Eric)\n",
    "del Eric['gender']\n",
    "print(Eric)\n",
    "print('Keys of dictionary \\'Eric\\': ', Eric.keys())\n",
    "print('Values of dictionary \\'Eric\\': ', Eric.values())\n",
    "print('Value corresponding to key \\'wife\\': ', Eric.get('wife'))\n",
    "print('Is key \\'gender\\' in dictonary \\'Eric\\'?: ', 'gender' in Eric)"
   ]
  },
  {
   "cell_type": "markdown",
   "id": "a3d34d50",
   "metadata": {},
   "source": [
    "## 1.6 Set (집합) <a class=\"anchor\" id=\"1.6\"></a>"
   ]
  },
  {
   "cell_type": "markdown",
   "id": "49fbc59e",
   "metadata": {},
   "source": [
    "- Sets are unordered, no duplicate group of objects.\n",
    "- Set can be created by the following command: a = **set**([1, 2, 3]), b = **set**([2, 3, 4])\n",
    "- Intersection of two sets: a **&** b, a.**intersection**(b) *(= {2, 3})*\n",
    "- Union of two sets: a.**union**(b) *(= {1, 2, 3, 4})*\n",
    "- Difference of two sets: a.**difference**(b) *(= {1})*\n",
    "- Add a value to a set: a.**add**(5) *(a = {1, 2, 3, 5})*\n",
    "- Add values to a set: a.**update**([5, 6, 7]) *(a = {1, 2, 3, 5, 6, 7})*\n",
    "- Remove a certain value: a.**remove**(2) *(a = {1, 3})*"
   ]
  },
  {
   "cell_type": "code",
   "execution_count": 7,
   "id": "105d9af1",
   "metadata": {},
   "outputs": [
    {
     "name": "stdout",
     "output_type": "stream",
     "text": [
      "Intersection of two sets a & b:  {2, 3}\n",
      "Union of two set a & b:  {1, 2, 3, 4}\n",
      "Difference of two set a & b:  {1} {4}\n",
      "Add value 5 to set a:  {1, 2, 3, 5}\n",
      "Add values 7, 8, 9 to set a:  {1, 2, 3, 5, 7, 8, 9}\n",
      "Remove value 2 from set a:  {1, 3, 5, 7, 8, 9}\n"
     ]
    }
   ],
   "source": [
    "a = set([1, 2, 3])\n",
    "b = set([2, 3, 4])\n",
    "print('Intersection of two sets a & b: ', a.intersection(b))\n",
    "print('Union of two set a & b: ', a.union(b))\n",
    "print('Difference of two set a & b: ', a.difference(b), b.difference(a))\n",
    "a.add(5)\n",
    "print('Add value 5 to set a: ', a)\n",
    "a.update([7, 8, 9])\n",
    "print('Add values 7, 8, 9 to set a: ', a)\n",
    "a.remove(2)\n",
    "print('Remove value 2 from set a: ', a)"
   ]
  },
  {
   "cell_type": "markdown",
   "id": "f346722c",
   "metadata": {},
   "source": [
    "## 1.7 Boolean <a class=\"anchor\" id=\"1.7\"></a>"
   ]
  },
  {
   "cell_type": "markdown",
   "id": "3dff9ae4",
   "metadata": {},
   "source": [
    "- Boolean has two values: **True** and **False**."
   ]
  },
  {
   "cell_type": "markdown",
   "id": "46dbe81f",
   "metadata": {},
   "source": [
    "## 1.8 Assigning Variables <a class=\"anchor\" id=\"1.8\"></a>"
   ]
  },
  {
   "cell_type": "markdown",
   "id": "33645c54",
   "metadata": {},
   "source": [
    "- We can assign an object to a variable by the following syntax: a = [1, 2, 3]. The following code makes a list object [1, 2, 3], automatically stores it in memory, and variable 'a' would point to the address of the memory.\n",
    "- The address which the variable points to can be found by the following code: **id**(a)\n",
    "- If we copy a list and assign it into a new variable *(b = a)*, it actually means to point to the same memory address. Hence, if we change a value in a *(a[1] = 3)*, the value in b is also changed\n",
    "- In order to avoid this problem, we can copy a list by the following code: b = a[:]"
   ]
  },
  {
   "cell_type": "code",
   "execution_count": 17,
   "id": "633c73b5",
   "metadata": {},
   "outputs": [
    {
     "name": "stdout",
     "output_type": "stream",
     "text": [
      "print list 'a' and its memory id:  [1, 2, 3] 1742906840896\n",
      "print list 'b' and its memory id:  [1, 2, 3] 1742906840896\n",
      "print list 'a' and 'b' and their memory ids:  [1, 5, 3] [1, 5, 3] 1742906840896 1742906840896\n",
      "print list 'a' and 'b' and their memory ids:  [1, 2, 3] [1, 2, 3] 1742906071232 1742906846144\n",
      "print list 'a' and 'b' and their memory ids:  [1, 5, 3] [1, 2, 3] 1742906071232 1742906846144\n",
      "print list 'a' and 'b' and their memory ids:  [1, 5, 3] [1, 5, 3] 1742906840896 1742906840896\n"
     ]
    }
   ],
   "source": [
    "a = [1, 2, 3]\n",
    "print('print list \\'a\\' and its memory id: ', a, id(a))\n",
    "b = a\n",
    "print('print list \\'b\\' and its memory id: ', b, id(b))\n",
    "a[1] = 5\n",
    "print('print list \\'a\\' and \\'b\\' and their memory ids: ', a, b, id(a), id(b))\n",
    "\n",
    "a = [1, 2, 3]\n",
    "b = a[:]\n",
    "print('print list \\'a\\' and \\'b\\' and their memory ids: ', a, b, id(a), id(b))\n",
    "a[1] = 5\n",
    "print('print list \\'a\\' and \\'b\\' and their memory ids: ', a, b, id(a), id(b))\n",
    "\n",
    "a = [1, 2, 3]\n",
    "b = a\n",
    "b[1] = 5\n",
    "print('print list \\'a\\' and \\'b\\' and their memory ids: ', a, b, id(a), id(b))\n"
   ]
  },
  {
   "cell_type": "markdown",
   "id": "9904f0c0",
   "metadata": {},
   "source": [
    "# 2. Statements (제어문) <a class=\"anchor\" id=\"chap2\"></a>"
   ]
  },
  {
   "cell_type": "markdown",
   "id": "d2a953e1",
   "metadata": {},
   "source": [
    "## 2.1 if Statement <a class=\"anchor\" id=\"2.1\"></a>"
   ]
  },
  {
   "cell_type": "markdown",
   "id": "3d71c4cf",
   "metadata": {},
   "source": [
    "- Remember to add ‘:’ after each if and else statement\n",
    "- If you don’t want to execute any statement, just write pass"
   ]
  },
  {
   "cell_type": "code",
   "execution_count": 5,
   "id": "93991f62",
   "metadata": {},
   "outputs": [
    {
     "name": "stdout",
     "output_type": "stream",
     "text": [
      "x is 3\n",
      "y is smaller than or equal to 3\n"
     ]
    }
   ],
   "source": [
    "x = 3\n",
    "y = 3\n",
    "z = 3\n",
    "\n",
    "if (x>0):\n",
    "    print(f'x is {x}')\n",
    "    \n",
    "if (y>5):\n",
    "    print(y)\n",
    "elif(y>3):\n",
    "    pass\n",
    "else:\n",
    "    print('y is smaller than or equal to 3')\n",
    "    \n",
    "if (z>3):\n",
    "    print(y)\n",
    "elif(z>2):\n",
    "    pass\n",
    "else:\n",
    "    print('z is smaller than or equal to 2')"
   ]
  },
  {
   "cell_type": "markdown",
   "id": "704c8539",
   "metadata": {},
   "source": [
    "## 2.2 in Statement <a class=\"anchor\" id=\"2.2\"></a>"
   ]
  },
  {
   "cell_type": "markdown",
   "id": "c075c1f8",
   "metadata": {},
   "source": [
    "- A statement that returns **true** if an element is in a list: 1 **in** [1, 2, 3] *(= True)*"
   ]
  },
  {
   "cell_type": "code",
   "execution_count": 6,
   "id": "03b4576b",
   "metadata": {},
   "outputs": [
    {
     "name": "stdout",
     "output_type": "stream",
     "text": [
      "element 1 is in list numbers\n",
      "element 11 is not in list numbers\n"
     ]
    }
   ],
   "source": [
    "numbers = [1, 2, 3, 4, 5]\n",
    "\n",
    "if(1 in numbers):\n",
    "    print('element 1 is in list numbers')\n",
    "else:\n",
    "    print('element 1 is not in list numbers')\n",
    "\n",
    "\n",
    "if(11 in numbers):\n",
    "    print('element 11 is in list numbers')\n",
    "else:\n",
    "    print('element 11 is not in list numbers')"
   ]
  },
  {
   "cell_type": "markdown",
   "id": "11c8ca7d",
   "metadata": {},
   "source": [
    "## 2.3 while Statement <a class=\"anchor\" id=\"2.3\"></a>"
   ]
  },
  {
   "cell_type": "markdown",
   "id": "0367deae",
   "metadata": {},
   "source": [
    "- You can stop the **while** loop with command break\n",
    "- You can skip the remainder of statements and go back to the beginning of **while** loop with continue"
   ]
  },
  {
   "cell_type": "code",
   "execution_count": 7,
   "id": "05c52810",
   "metadata": {},
   "outputs": [
    {
     "name": "stdout",
     "output_type": "stream",
     "text": [
      "current value of x is 10120109\n",
      "current value of x is 5060054\n",
      "current value of x is 2530027\n",
      "current value of x is 1265013\n",
      "current value of x is 632506\n",
      "current value of x is 316253\n",
      "current value of x is 158126\n",
      "current value of x is 79063\n"
     ]
    }
   ],
   "source": [
    "x = 20240219\n",
    "\n",
    "cond = True\n",
    "\n",
    "while(cond):\n",
    "    x //= 2\n",
    "    print(f'current value of x is {x}')\n",
    "    if (x>100000):\n",
    "        continue\n",
    "    else:\n",
    "        break "
   ]
  },
  {
   "cell_type": "markdown",
   "id": "3e079ab9",
   "metadata": {},
   "source": [
    "## 2.4 for Statement <a class=\"anchor\" id=\"2.4\"></a>"
   ]
  },
  {
   "cell_type": "markdown",
   "id": "ec529107",
   "metadata": {},
   "source": [
    "- **for** loop is a combination of **in** function and loop function.\n",
    "- We can use the **continue** statement in for loops as well\n",
    "- **for** loops are often paired with built-in function **range(n)**, which is a function that returns a list of integers from 0 to n (include 0, exclude n)\n",
    "- We can use list comprehension to more conveniently use the **for** loop. The syntax goes as follows: [*statement* **for** *variable* **in** *list* **if** *statement*]"
   ]
  },
  {
   "cell_type": "code",
   "execution_count": 10,
   "id": "2d2c1c93",
   "metadata": {},
   "outputs": [
    {
     "name": "stdout",
     "output_type": "stream",
     "text": [
      "1 2 4 five [6, 7] [1, 2, 4, 'five', [6, 7]]\n"
     ]
    }
   ],
   "source": [
    "temp = [1, 2, 3, 4, 'five', [6, 7]]\n",
    "\n",
    "for index in range(len(temp)):\n",
    "    if (temp[index] == 3):\n",
    "        continue\n",
    "    print(temp[index], end = ' ')\n",
    "    \n",
    "print([x for x in temp if x != 3])"
   ]
  },
  {
   "cell_type": "markdown",
   "id": "c03d45af",
   "metadata": {},
   "source": [
    "# 3. Function (함수) <a class=\"anchor\" id=\"chap3\"></a>"
   ]
  },
  {
   "cell_type": "markdown",
   "id": "5c04129e",
   "metadata": {},
   "source": [
    "## 3.1 Various useful functions <a class=\"anchor\" id=\"3.1\"></a>"
   ]
  },
  {
   "cell_type": "markdown",
   "id": "3a554826",
   "metadata": {},
   "source": [
    "- **print**(, **end** = \" \"): **end** helps to print the next line without line break.\n",
    "- Using continuous strings with **\"\"** works the same as adding them together\n",
    "- We can use **,** inbetween string parameters of **print()** to work as spacing."
   ]
  },
  {
   "cell_type": "code",
   "execution_count": 1,
   "id": "6314402d",
   "metadata": {},
   "outputs": [
    {
     "name": "stdout",
     "output_type": "stream",
     "text": [
      "lifeistoo short lifeistoo short\n",
      "life is too short\n"
     ]
    }
   ],
   "source": [
    "print(\"life\" \"is\" \"too short\", end = \" \")\n",
    "print(\"life\"+\"is\"+\"too short\")\n",
    "print(\"life\",\"is\",\"too short\")"
   ]
  },
  {
   "cell_type": "markdown",
   "id": "83eec560",
   "metadata": {},
   "source": [
    "- **pass** allows to run code without any happening"
   ]
  },
  {
   "cell_type": "code",
   "execution_count": 3,
   "id": "47b66369",
   "metadata": {},
   "outputs": [],
   "source": [
    "for i in range(5):\n",
    "    pass"
   ]
  },
  {
   "cell_type": "markdown",
   "id": "4da123ad",
   "metadata": {},
   "source": [
    "- **type()** prints out the type of the object"
   ]
  },
  {
   "cell_type": "code",
   "execution_count": 4,
   "id": "68c69d61",
   "metadata": {},
   "outputs": [
    {
     "name": "stdout",
     "output_type": "stream",
     "text": [
      "<class 'int'>\n",
      "<class 'str'>\n",
      "<class 'list'>\n"
     ]
    }
   ],
   "source": [
    "a = 1\n",
    "b = '1'\n",
    "c = [1]\n",
    "\n",
    "for obj in [a, b, c]:\n",
    "    print(type(obj))"
   ]
  },
  {
   "cell_type": "markdown",
   "id": "142d69f9",
   "metadata": {},
   "source": [
    "## 3.2 Basic Syntax of Function <a class=\"anchor\" id=\"3.2\"></a>"
   ]
  },
  {
   "cell_type": "markdown",
   "id": "6ed92919",
   "metadata": {},
   "source": [
    "- Basic syntax of a function is as following. We use keyword **def** in the beginning to declare a function, followed by function name with **():**\n",
    "- A function may or may not have parameters and return values.\n",
    "- If you want to get many input variables without knowing the specific number of them, u can add * in front of the parameter. This parameter is treated as a tuple.\n",
    "- If you want to get many input variables as keywords, you can add ** in front of the parameter. This parameter is treated as a dictionary\n",
    "- The return value of a function is always one element. If you return more than one values, they will be grouped into a tuple and treated as one element.\n",
    "- You can assign initial values for parameters. Parameters with initial values should always come after parameters without one.\n",
    "- Variable inside a function does not exists outside of it. If we want to work on a variable declared outside of the function, we can use **global**.\n",
    "- Instead of defining a function with **def**, we can also use **lambda** in certain cases. The syntax is as follows: *function_name* = **lambda** *parameter_1*, *parameter_2*, ... **:** *statement*. Functions created with **lambda** always returns the value from the statement."
   ]
  },
  {
   "cell_type": "code",
   "execution_count": 23,
   "id": "9fbdbefa",
   "metadata": {},
   "outputs": [
    {
     "name": "stdout",
     "output_type": "stream",
     "text": [
      "16\n",
      "2688\n",
      "{'a': 1, 'b': 7, 'c': 'car'}\n",
      "my name is Byungho, I am 24, I am a male,  I like chocolate.\n",
      "my name is Angela, I am 21, I am a female,  I do not like chocolate.\n",
      "a is 10\n",
      "a is 11\n",
      "6\n"
     ]
    }
   ],
   "source": [
    "def return_squared(variable_1):\n",
    "    a = variable_1*variable_1\n",
    "    return a\n",
    "\n",
    "def return_product(*variables_1):\n",
    "    result = 1\n",
    "    for variable in variables_1:\n",
    "        result = result * variable\n",
    "    return result\n",
    "\n",
    "def print_dictionary(**pairs_1):\n",
    "    return pairs_1\n",
    "\n",
    "def id_info(name, age, gender, like_chocolate = True):\n",
    "    print(f'my name is {name}, I am {age}, I am a {gender}, ', end = ' ')\n",
    "    if(like_chocolate):\n",
    "        print('I like chocolate.')\n",
    "    else:\n",
    "        print('I do not like chocolate.')\n",
    "\n",
    "print(return_squared(4))\n",
    "print(return_product(2, 4, 6, 7, 8))\n",
    "print(print_dictionary(a = 1, b = 7, c = 'car'))\n",
    "id_info('Byungho', 24, 'male')\n",
    "id_info('Angela', 21, 'female', False)\n",
    "\n",
    "a = 10\n",
    "print(f'a is {a}')\n",
    "\n",
    "def change_a():\n",
    "    global a\n",
    "    a = a+1\n",
    "\n",
    "change_a()\n",
    "print(f'a is {a}')\n",
    "\n",
    "product = lambda a, b: a*b\n",
    "print(product(2,3))"
   ]
  },
  {
   "cell_type": "markdown",
   "id": "c3f81676",
   "metadata": {},
   "source": [
    "## 3.3 User Input <a class=\"anchor\" id=\"3.3\"></a>"
   ]
  },
  {
   "cell_type": "markdown",
   "id": "4efcc446",
   "metadata": {},
   "source": [
    "- We can use our input values while running the code with **input()**\n",
    "- Instructions can be added as a parameter of the **input()** function.\n",
    "- The **input()** function treats the input as **strings**."
   ]
  },
  {
   "cell_type": "code",
   "execution_count": 27,
   "id": "5d8d6538",
   "metadata": {},
   "outputs": [
    {
     "name": "stdout",
     "output_type": "stream",
     "text": [
      "enter a number3\n",
      "a is 3\n"
     ]
    }
   ],
   "source": [
    "a = input('enter a number')\n",
    "print(f'a is {a}')"
   ]
  },
  {
   "cell_type": "markdown",
   "id": "3405d335",
   "metadata": {},
   "source": [
    "## 3.4 Read and Write Files <a class=\"anchor\" id=\"3.4\"></a>"
   ]
  },
  {
   "cell_type": "markdown",
   "id": "55d91357",
   "metadata": {},
   "source": [
    "- We can read files with **open()**.\n",
    "- You can choose different modes as parameters: **'r'** as read mode, **'w'** as write mode, **'a'** as add mode.\n",
    "- If you use write mode, any existing file with the same name is overwritten, otherwise it will create a new file in the directory. You can also specify the directory you want to create in the name of the file.\n",
    "- You can write on the file with **write()** function with giving string elements as parameter."
   ]
  },
  {
   "cell_type": "code",
   "execution_count": 40,
   "id": "24cd3966",
   "metadata": {},
   "outputs": [],
   "source": [
    "f = open('C:/Users/csia7/OneDrive/바탕 화면/new_file.txt', 'w')\n",
    "for i in range(1, 11):\n",
    "    data = f'{i}번째 줄입니다.\\n'\n",
    "    f.write(data)\n",
    "f.close()"
   ]
  },
  {
   "cell_type": "markdown",
   "id": "0e9a8344",
   "metadata": {},
   "source": [
    "- You can read each line of the opened file with **readline()**."
   ]
  },
  {
   "cell_type": "code",
   "execution_count": 41,
   "id": "654cee70",
   "metadata": {},
   "outputs": [
    {
     "name": "stdout",
     "output_type": "stream",
     "text": [
      "1번째 줄입니다.\n",
      "\n",
      "2번째 줄입니다.\n",
      "\n"
     ]
    }
   ],
   "source": [
    "f = open('C:/Users/csia7/OneDrive/바탕 화면/new_file.txt', 'r')\n",
    "line = f.readline()\n",
    "print(line)\n",
    "line = f.readline()\n",
    "print(line)\n",
    "f.close()"
   ]
  },
  {
   "cell_type": "markdown",
   "id": "3f38efbb",
   "metadata": {},
   "source": [
    "- Or you can use **readlines()** function, which read all the lines and return a list.\n",
    "- You can notice that when reading the file, there is the pareser **'\\n'** at the end of each line. You can use the **strip()** for each line to automatically remove it."
   ]
  },
  {
   "cell_type": "code",
   "execution_count": 42,
   "id": "2c68cb29",
   "metadata": {},
   "outputs": [
    {
     "name": "stdout",
     "output_type": "stream",
     "text": [
      "1번째 줄입니다.\n",
      "\n",
      "2번째 줄입니다.\n",
      "\n",
      "3번째 줄입니다.\n",
      "\n",
      "4번째 줄입니다.\n",
      "\n",
      "5번째 줄입니다.\n",
      "\n",
      "6번째 줄입니다.\n",
      "\n",
      "7번째 줄입니다.\n",
      "\n",
      "8번째 줄입니다.\n",
      "\n",
      "9번째 줄입니다.\n",
      "\n",
      "10번째 줄입니다.\n",
      "\n"
     ]
    }
   ],
   "source": [
    "f = open('C:/Users/csia7/OneDrive/바탕 화면/new_file.txt', 'r')\n",
    "lines = f.readlines()\n",
    "for line in lines:\n",
    "    print(line)\n",
    "f.close()"
   ]
  },
  {
   "cell_type": "markdown",
   "id": "9e9541bd",
   "metadata": {},
   "source": [
    "- Another way to read the file is to use **read()** function, which returns a string element of the whole file."
   ]
  },
  {
   "cell_type": "code",
   "execution_count": 43,
   "id": "1d541b6b",
   "metadata": {},
   "outputs": [
    {
     "name": "stdout",
     "output_type": "stream",
     "text": [
      "1번째 줄입니다.\n",
      "2번째 줄입니다.\n",
      "3번째 줄입니다.\n",
      "4번째 줄입니다.\n",
      "5번째 줄입니다.\n",
      "6번째 줄입니다.\n",
      "7번째 줄입니다.\n",
      "8번째 줄입니다.\n",
      "9번째 줄입니다.\n",
      "10번째 줄입니다.\n",
      "\n"
     ]
    }
   ],
   "source": [
    "f = open('C:/Users/csia7/OneDrive/바탕 화면/new_file.txt', 'r')\n",
    "data = f.read()\n",
    "print(data)\n",
    "f.close()"
   ]
  },
  {
   "cell_type": "markdown",
   "id": "89b8eee0",
   "metadata": {},
   "source": [
    "- Last method is to use **for** loops on the whole file, which will read the file line by line."
   ]
  },
  {
   "cell_type": "code",
   "execution_count": 44,
   "id": "7445326f",
   "metadata": {},
   "outputs": [
    {
     "name": "stdout",
     "output_type": "stream",
     "text": [
      "1번째 줄입니다.\n",
      "\n",
      "2번째 줄입니다.\n",
      "\n",
      "3번째 줄입니다.\n",
      "\n",
      "4번째 줄입니다.\n",
      "\n",
      "5번째 줄입니다.\n",
      "\n",
      "6번째 줄입니다.\n",
      "\n",
      "7번째 줄입니다.\n",
      "\n",
      "8번째 줄입니다.\n",
      "\n",
      "9번째 줄입니다.\n",
      "\n",
      "10번째 줄입니다.\n",
      "\n"
     ]
    }
   ],
   "source": [
    "f = open('C:/Users/csia7/OneDrive/바탕 화면/new_file.txt', 'r')\n",
    "for line in f:\n",
    "    print(line)\n",
    "f.close()"
   ]
  },
  {
   "cell_type": "markdown",
   "id": "ef6c0688",
   "metadata": {},
   "source": [
    "- If you want to keep the original file and add on top, you can open the file with **'a'** mode."
   ]
  },
  {
   "cell_type": "code",
   "execution_count": 45,
   "id": "dc804271",
   "metadata": {},
   "outputs": [],
   "source": [
    "f = open('C:/Users/csia7/OneDrive/바탕 화면/new_file.txt', 'a')\n",
    "for i in range(11, 20):\n",
    "    data = f\"{i}번째 줄입니다.\\n\"\n",
    "    f.write(data)\n",
    "f.close()"
   ]
  },
  {
   "cell_type": "code",
   "execution_count": 46,
   "id": "2bbdc589",
   "metadata": {},
   "outputs": [
    {
     "name": "stdout",
     "output_type": "stream",
     "text": [
      "1번째 줄입니다.\n",
      "2번째 줄입니다.\n",
      "3번째 줄입니다.\n",
      "4번째 줄입니다.\n",
      "5번째 줄입니다.\n",
      "6번째 줄입니다.\n",
      "7번째 줄입니다.\n",
      "8번째 줄입니다.\n",
      "9번째 줄입니다.\n",
      "10번째 줄입니다.\n",
      "11번째 줄입니다.\n",
      "12번째 줄입니다.\n",
      "13번째 줄입니다.\n",
      "14번째 줄입니다.\n",
      "15번째 줄입니다.\n",
      "16번째 줄입니다.\n",
      "17번째 줄입니다.\n",
      "18번째 줄입니다.\n",
      "19번째 줄입니다.\n",
      "\n"
     ]
    }
   ],
   "source": [
    "f = open('C:/Users/csia7/OneDrive/바탕 화면/new_file.txt', 'r')\n",
    "data = f.read()\n",
    "print(data)\n",
    "f.close()"
   ]
  },
  {
   "cell_type": "markdown",
   "id": "425dfa17",
   "metadata": {},
   "source": [
    "- Since you always have to close a file at the end, the **with** function automatically does the work"
   ]
  },
  {
   "cell_type": "code",
   "execution_count": 47,
   "id": "3d709e58",
   "metadata": {},
   "outputs": [
    {
     "name": "stdout",
     "output_type": "stream",
     "text": [
      "1번째 줄입니다.\n",
      "2번째 줄입니다.\n",
      "3번째 줄입니다.\n",
      "4번째 줄입니다.\n",
      "5번째 줄입니다.\n",
      "6번째 줄입니다.\n",
      "7번째 줄입니다.\n",
      "8번째 줄입니다.\n",
      "9번째 줄입니다.\n",
      "10번째 줄입니다.\n",
      "11번째 줄입니다.\n",
      "12번째 줄입니다.\n",
      "13번째 줄입니다.\n",
      "14번째 줄입니다.\n",
      "15번째 줄입니다.\n",
      "16번째 줄입니다.\n",
      "17번째 줄입니다.\n",
      "18번째 줄입니다.\n",
      "19번째 줄입니다.\n",
      "\n"
     ]
    }
   ],
   "source": [
    "with open('C:/Users/csia7/OneDrive/바탕 화면/new_file.txt', 'r') as f:\n",
    "    print(f.read())"
   ]
  },
  {
   "cell_type": "markdown",
   "id": "33b8242d",
   "metadata": {},
   "source": [
    "# 4. Class <a class=\"anchor\" id=\"chap4\"></a>"
   ]
  },
  {
   "cell_type": "markdown",
   "id": "5aea4fbb",
   "metadata": {},
   "source": [
    "## 4.1 Basic Syntax of Class <a class=\"anchor\" id=\"4.1\"></a>"
   ]
  },
  {
   "cell_type": "markdown",
   "id": "69d45fa9",
   "metadata": {},
   "source": [
    "- In order to use functions efficiently, you can create a class. Functions built inside a class is called methods.\n",
    "- You can create objects by calling the class, and these objects are called the instance of the class.\n",
    "- You can call the methods by the following syntax: *instance*.*method*. Note that there is a parameter called **self** in the method. This argument refers to the instance which we call the method.\n",
    "- You can create an instance variable inside the method by the following syntax: **self**.*variable*\n",
    "- You can implement a *constructor*, which is a method that automatically sets default values when creating an instance, by the following syntax: **def __init__(self, var1, var2)**"
   ]
  },
  {
   "cell_type": "code",
   "execution_count": 6,
   "id": "7c4664ab",
   "metadata": {},
   "outputs": [
    {
     "name": "stdout",
     "output_type": "stream",
     "text": [
      "5 7\n",
      "12 35 -2 0.7142857142857143\n"
     ]
    }
   ],
   "source": [
    "class FourCal:\n",
    "    \n",
    "    def __init__(self, first, second):\n",
    "        self.first = first\n",
    "        self.second = second\n",
    "        \n",
    "    def add(self):\n",
    "        result = self.first + self.second\n",
    "        return result\n",
    "    \n",
    "    def mul(self):\n",
    "        result = self.first * self.second\n",
    "        return result\n",
    "    \n",
    "    def sub(self):\n",
    "        result = self.first - self.second\n",
    "        return result\n",
    "    \n",
    "    def div(self):\n",
    "        result = self.first / self.second\n",
    "        return result\n",
    "    \n",
    "a = Fourcal(5, 7)\n",
    "print(a.first, a.second)\n",
    "print(a.add(), a.mul(), a.sub(), a.div())"
   ]
  },
  {
   "cell_type": "markdown",
   "id": "75022977",
   "metadata": {},
   "source": [
    "## 4.2 Inheritance <a class=\"anchor\" id=\"4.2\"></a>"
   ]
  },
  {
   "cell_type": "markdown",
   "id": "94f2d59b",
   "metadata": {},
   "source": [
    "- When you want to add from the original class without changing it, you can use a technique called inheritance.\n",
    "- You simply do it by defining a new class and put the class name that you want to inherit as a parameter.\n",
    "- The inherited class can use all methods from the parent class.\n",
    "- When you create an instance for this inherited class you have to follow the constructor of the parent class."
   ]
  },
  {
   "cell_type": "code",
   "execution_count": 10,
   "id": "3254ea70",
   "metadata": {},
   "outputs": [
    {
     "name": "stdout",
     "output_type": "stream",
     "text": [
      "6 16\n"
     ]
    }
   ],
   "source": [
    "class MoreFourCal(FourCal):\n",
    "    def pow(self):\n",
    "        result = self.first ** self.second\n",
    "        return result\n",
    "    \n",
    "a = MoreFourCal(4, 2)\n",
    "print(a.add(), a.pow())"
   ]
  },
  {
   "cell_type": "markdown",
   "id": "ff9083e8",
   "metadata": {},
   "source": [
    "## 4.3 Method Override <a class=\"anchor\" id=\"4.3\"></a>"
   ]
  },
  {
   "cell_type": "markdown",
   "id": "a92e6fad",
   "metadata": {},
   "source": [
    "- When you want to change a method from the parent class, you can use a techinuqe called override.\n",
    "- You simply redefine the method inside the inherited class."
   ]
  },
  {
   "cell_type": "code",
   "execution_count": 13,
   "id": "e20b877c",
   "metadata": {},
   "outputs": [
    {
     "name": "stdout",
     "output_type": "stream",
     "text": [
      "4 0\n"
     ]
    }
   ],
   "source": [
    "class SafeFourCal(FourCal):\n",
    "    def div(self):\n",
    "        if self.second == 0:\n",
    "            return 0\n",
    "        else:\n",
    "            return self.first / self.second\n",
    "    \n",
    "a = SafeFourCal(4, 0)\n",
    "print(a.add(), a.div())"
   ]
  },
  {
   "cell_type": "markdown",
   "id": "33800964",
   "metadata": {},
   "source": [
    "## 4.4 Class Variable <a class=\"anchor\" id=\"4.4\"></a>"
   ]
  },
  {
   "cell_type": "markdown",
   "id": "2cb1f38c",
   "metadata": {},
   "source": [
    "- You can create a variable inside the class. This class variable is accessible from the class and its instances.\n",
    "- If you change the value of the class variable the value of the same instance variable also changes accordingly.\n",
    "- You can create an instance variable witht the same name as class variable, but it won't change the value of the class variable"
   ]
  },
  {
   "cell_type": "code",
   "execution_count": 17,
   "id": "1fc50009",
   "metadata": {},
   "outputs": [
    {
     "name": "stdout",
     "output_type": "stream",
     "text": [
      "Jeong Jeong Jeong\n",
      "Jeong Hwang Jeong\n"
     ]
    }
   ],
   "source": [
    "class Family:\n",
    "    lastname = 'Jeong'\n",
    "\n",
    "a = Family()\n",
    "b = Family()\n",
    "print(Family.lastname, a.lastname, b.lastname)\n",
    "\n",
    "a.lastname = 'Hwang'\n",
    "print(Family.lastname, a.lastname, b.lastname)"
   ]
  },
  {
   "cell_type": "markdown",
   "id": "0c4db8cb",
   "metadata": {},
   "source": [
    "# 5. Module <a class=\"anchor\" id=\"chap5\"></a>"
   ]
  },
  {
   "cell_type": "markdown",
   "id": "c1223b37",
   "metadata": {},
   "source": [
    "## 5.1 Basic Syntax of Module <a class=\"anchor\" id=\"5.1\"></a>"
   ]
  },
  {
   "cell_type": "markdown",
   "id": "d630bf02",
   "metadata": {},
   "source": [
    "- Module is a group of functions, variables, and classes.\n",
    "- In order to use a module save it as a **.py** file and call the file using **import** *module*. Keep in mind that the file should be in the same directory.\n",
    "- If you want to use only certain part of the module you can instead use **from** *module* **import** *module_function*. \n",
    "- You can call all functions with *.\n",
    "- If you want to run certain part of the code in the module only when directly calling it and not when you import it, you can wrap it with the following syntax: **if __name__ == \"__main__\":**"
   ]
  },
  {
   "cell_type": "code",
   "execution_count": 27,
   "id": "e65fcce9",
   "metadata": {},
   "outputs": [],
   "source": [
    "# code of mod1.py file\n",
    "# def add(a,b):\n",
    "#    return a+b\n",
    "\n",
    "# def sub(a,b):\n",
    "#    return a-b\n",
    "\n",
    "# if __name__ == \"__main__\":\n",
    "#    print(add(1,4))\n",
    "#    print(sub(4,2))"
   ]
  },
  {
   "cell_type": "code",
   "execution_count": 30,
   "id": "ed8561c9",
   "metadata": {},
   "outputs": [
    {
     "name": "stdout",
     "output_type": "stream",
     "text": [
      "5 7\n"
     ]
    }
   ],
   "source": [
    "from mod1 import *\n",
    "\n",
    "print(add(2,3), sub(8,1))"
   ]
  },
  {
   "cell_type": "code",
   "execution_count": 31,
   "id": "dd533c59",
   "metadata": {},
   "outputs": [],
   "source": [
    "# code of mod2.py file\n",
    "#PI = 3.141592\n",
    "\n",
    "#class Math: \n",
    "#    def solv(self, r): \n",
    "#        return PI * (r ** 2) \n",
    "\n",
    "#def add(a, b): \n",
    "#    return a+b "
   ]
  },
  {
   "cell_type": "code",
   "execution_count": 33,
   "id": "54dd824e",
   "metadata": {},
   "outputs": [
    {
     "name": "stdout",
     "output_type": "stream",
     "text": [
      "3.141592\n",
      "7.5415920000000005\n"
     ]
    }
   ],
   "source": [
    "import mod2\n",
    "\n",
    "print(mod2.PI)\n",
    "print(mod2.add(mod2.PI, 4.4))"
   ]
  },
  {
   "cell_type": "markdown",
   "id": "9136b52c",
   "metadata": {},
   "source": [
    "- You can also import module inside a module"
   ]
  },
  {
   "cell_type": "code",
   "execution_count": 34,
   "id": "a0ebafd3",
   "metadata": {},
   "outputs": [],
   "source": [
    "# code of modtest.py file\n",
    "# import mod2\n",
    "# result = mod2.add(3, 4)\n",
    "# print(result)"
   ]
  },
  {
   "cell_type": "code",
   "execution_count": 35,
   "id": "391ba37c",
   "metadata": {},
   "outputs": [
    {
     "name": "stdout",
     "output_type": "stream",
     "text": [
      "7\n"
     ]
    }
   ],
   "source": [
    "import modtest"
   ]
  },
  {
   "cell_type": "markdown",
   "id": "10c94950",
   "metadata": {},
   "source": [
    "- In order to import other modules in different directories you can use the **sys** module\n",
    "- **sys.path** shows all the directories that have python libraries. Modules inside these directories can be used directly without moving to other directory.\n",
    "- You can append the module you want to use into **sys.path** in order to use it regardless of the location of the directory."
   ]
  },
  {
   "cell_type": "code",
   "execution_count": 37,
   "id": "223d8a35",
   "metadata": {},
   "outputs": [
    {
     "data": {
      "text/plain": [
       "['C:\\\\Users\\\\csia7\\\\OneDrive\\\\문서\\\\GitHub\\\\Python101',\n",
       " 'C:\\\\Users\\\\csia7\\\\anaconda3\\\\python311.zip',\n",
       " 'C:\\\\Users\\\\csia7\\\\anaconda3\\\\DLLs',\n",
       " 'C:\\\\Users\\\\csia7\\\\anaconda3\\\\Lib',\n",
       " 'C:\\\\Users\\\\csia7\\\\anaconda3',\n",
       " '',\n",
       " 'C:\\\\Users\\\\csia7\\\\AppData\\\\Roaming\\\\Python\\\\Python311\\\\site-packages',\n",
       " 'C:\\\\Users\\\\csia7\\\\anaconda3\\\\Lib\\\\site-packages',\n",
       " 'C:\\\\Users\\\\csia7\\\\anaconda3\\\\Lib\\\\site-packages\\\\win32',\n",
       " 'C:\\\\Users\\\\csia7\\\\anaconda3\\\\Lib\\\\site-packages\\\\win32\\\\lib',\n",
       " 'C:\\\\Users\\\\csia7\\\\anaconda3\\\\Lib\\\\site-packages\\\\Pythonwin']"
      ]
     },
     "execution_count": 37,
     "metadata": {},
     "output_type": "execute_result"
    }
   ],
   "source": [
    "import sys\n",
    "\n",
    "sys.path"
   ]
  },
  {
   "cell_type": "markdown",
   "id": "621cb056",
   "metadata": {},
   "source": [
    "# 6. Package <a class=\"anchor\" id=\"chap6\"></a>"
   ]
  },
  {
   "cell_type": "markdown",
   "id": "a8cb6183",
   "metadata": {},
   "source": [
    "- Packages are a group of related modules. It helps to use modules in an organized way."
   ]
  },
  {
   "cell_type": "code",
   "execution_count": null,
   "id": "4bd5ae56",
   "metadata": {},
   "outputs": [],
   "source": []
  }
 ],
 "metadata": {
  "kernelspec": {
   "display_name": "Python 3 (ipykernel)",
   "language": "python",
   "name": "python3"
  },
  "language_info": {
   "codemirror_mode": {
    "name": "ipython",
    "version": 3
   },
   "file_extension": ".py",
   "mimetype": "text/x-python",
   "name": "python",
   "nbconvert_exporter": "python",
   "pygments_lexer": "ipython3",
   "version": "3.11.4"
  }
 },
 "nbformat": 4,
 "nbformat_minor": 5
}
