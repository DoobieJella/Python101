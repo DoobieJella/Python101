{
 "cells": [
  {
   "cell_type": "markdown",
   "id": "ceeb2c6b",
   "metadata": {},
   "source": [
    "# Python101"
   ]
  },
  {
   "cell_type": "markdown",
   "id": "42778a86",
   "metadata": {},
   "source": [
    "Summary of https://wikidocs.net/book/1"
   ]
  },
  {
   "cell_type": "markdown",
   "id": "547a94b0",
   "metadata": {},
   "source": [
    "# 1. Data Types (자료형)"
   ]
  },
  {
   "cell_type": "markdown",
   "id": "82c079d8",
   "metadata": {},
   "source": [
    "- Check the type of data: a = **True**, **type(**a**)** *(= class ‘bool’)*"
   ]
  },
  {
   "cell_type": "code",
   "execution_count": 1,
   "id": "f50e54f3",
   "metadata": {},
   "outputs": [
    {
     "data": {
      "text/plain": [
       "bool"
      ]
     },
     "execution_count": 1,
     "metadata": {},
     "output_type": "execute_result"
    }
   ],
   "source": [
    "a = True\n",
    "type(a)"
   ]
  },
  {
   "cell_type": "markdown",
   "id": "de955030",
   "metadata": {},
   "source": [
    "## 1.1 Numeric (숫자형)"
   ]
  },
  {
   "cell_type": "markdown",
   "id": "0d68a5fc",
   "metadata": {},
   "source": [
    "- Integer (정수형): a = 2\n",
    "- Floating-point (실수형): a = 1.2 , a = 4.8e2\n",
    "- Octal (8진수): a = 0o23\n",
    "- Hexadecimal (16진수): a = 0xa2d"
   ]
  },
  {
   "cell_type": "code",
   "execution_count": 3,
   "id": "6498bc39",
   "metadata": {},
   "outputs": [
    {
     "data": {
      "text/plain": [
       "(int, float, int, int)"
      ]
     },
     "execution_count": 3,
     "metadata": {},
     "output_type": "execute_result"
    }
   ],
   "source": [
    "a = 2\n",
    "b = 1.2\n",
    "c = 0o23\n",
    "d = 0xa2d\n",
    "\n",
    "type(a), type(b), type(c), type(d)"
   ]
  },
  {
   "cell_type": "markdown",
   "id": "c1b91806",
   "metadata": {},
   "source": [
    "### 1.1.1 Numeric Operators"
   ]
  },
  {
   "cell_type": "markdown",
   "id": "bcc6c2cf",
   "metadata": {},
   "source": [
    "- Arithmetic operators: a **+** b, a **–** b, a * b, a **/** b\n",
    "- Power: 7 ** 3 *(= 7^3)*\n",
    "- Remainder: 7 **%** 3 *(= 1)*\n",
    "- Quotient: 7 **//** 3 *(= 2)*"
   ]
  },
  {
   "cell_type": "code",
   "execution_count": 7,
   "id": "14075b46",
   "metadata": {},
   "outputs": [
    {
     "name": "stdout",
     "output_type": "stream",
     "text": [
      "10 -4 21 0.42857142857142855\n",
      "343\n",
      "1\n",
      "2\n"
     ]
    }
   ],
   "source": [
    "a = 3\n",
    "b = 7\n",
    "print(a+b, a-b, a*b, a/b)\n",
    "print(b**a)\n",
    "print(b%a)\n",
    "print(b//a)"
   ]
  },
  {
   "cell_type": "markdown",
   "id": "c389a7b2",
   "metadata": {},
   "source": [
    "## 1.2 String (문자열)"
   ]
  },
  {
   "cell_type": "markdown",
   "id": "a9fae4dc",
   "metadata": {},
   "source": [
    "- Strings (문자열): “Hello”, ‘Hello’, “““Hello”””, ‘‘‘Hello’’’\n",
    "- String objects are immutable; you cannot change individual characters within string objects."
   ]
  },
  {
   "cell_type": "markdown",
   "id": "a549731c",
   "metadata": {},
   "source": [
    "### 1.2.1 Escape Codes (특수기호)"
   ]
  },
  {
   "cell_type": "markdown",
   "id": "65969694",
   "metadata": {},
   "source": [
    "- **/n**: next line\n",
    "- **/t**: tab\n",
    "- **//**: add backslash\n",
    "- **/’**: add ‘\n",
    "- **/”**: add “"
   ]
  },
  {
   "cell_type": "code",
   "execution_count": 12,
   "id": "375e31bc",
   "metadata": {},
   "outputs": [
    {
     "name": "stdout",
     "output_type": "stream",
     "text": [
      "Hello \n",
      "World\tMy\\Name'is\"Byungho\n"
     ]
    }
   ],
   "source": [
    "print('Hello \\nWorld\\tMy\\\\Name\\'is\\\"Byungho')"
   ]
  },
  {
   "cell_type": "markdown",
   "id": "b5ed1b8a",
   "metadata": {},
   "source": [
    "### 1.2.2 String Operators "
   ]
  },
  {
   "cell_type": "markdown",
   "id": "b0fee9b0",
   "metadata": {},
   "source": [
    "- Addition: “Angela” **+** “ is lovely” *(= “Angela is lovely”)*\n",
    "- Multiplication: “Angela” * 2 *(= “AngelaAngela”)*\n",
    "- Indexing string: a = “Angela is lovely” *(a[3] = “e”, a[6] = “ ”, a[-1] = “y”)*\n",
    "- Slicing string: a = “Angela is lovely” *(a[2:6] = “gela”, a[10:] = “lovely”, a[:5] = “Angel”)*"
   ]
  },
  {
   "cell_type": "code",
   "execution_count": 13,
   "id": "7de5a603",
   "metadata": {},
   "outputs": [
    {
     "name": "stdout",
     "output_type": "stream",
     "text": [
      "Angelais lovely\n",
      "AngelaAngela\n",
      "e   y\n",
      "gela lovely Angel\n"
     ]
    }
   ],
   "source": [
    "a = \"Angela is lovely\"\n",
    "\n",
    "print(\"Angela\" + \"is lovely\")\n",
    "print(\"Angela\"*2)\n",
    "print(a[3], a[6], a[-1])\n",
    "print(a[2:6], a[10:], a[:5])"
   ]
  },
  {
   "cell_type": "markdown",
   "id": "7f007e48",
   "metadata": {},
   "source": [
    "### 1.2.3 String Formatting"
   ]
  },
  {
   "cell_type": "markdown",
   "id": "00fccd82",
   "metadata": {},
   "source": [
    "- “We ate **%s** for **%s**.” **%** (“chicken”, “dinner”) *(%s: string, %c: character, %d: integer, %f: floating-point, %%: percent)*\n",
    "- “We ate **{0}** for **{1}**”**.format**(“chicken”, “dinner”) \n",
    "- “We ate **{food}** for **{mealtime}**”**.format**(food = “chicken”, mealtime = “dinner”)\n",
    "- **f**\"We ate **{x}** for **{y}**\""
   ]
  },
  {
   "cell_type": "code",
   "execution_count": 9,
   "id": "1f2b018c",
   "metadata": {},
   "outputs": [
    {
     "name": "stdout",
     "output_type": "stream",
     "text": [
      "We ate chicken for dinner.\n",
      "We ate chicken for dinner.\n",
      "We ate chicken for dinner.\n",
      "We ate chicken for dinner\n"
     ]
    }
   ],
   "source": [
    "print(\"We ate %s for %s.\" % (\"chicken\", \"dinner\"))\n",
    "print(\"We ate {0} for {1}.\".format(\"chicken\", \"dinner\"))\n",
    "print(\"We ate {food} for {mealtime}.\".format(food = \"chicken\", mealtime = \"dinner\"))\n",
    "\n",
    "food = 'chicken'\n",
    "mealtime = 'dinner'\n",
    "print(f\"We ate {food} for {mealtime}\")"
   ]
  },
  {
   "cell_type": "markdown",
   "id": "9bbfe3d9",
   "metadata": {},
   "source": [
    "### 1.2.4 String Functions"
   ]
  },
  {
   "cell_type": "markdown",
   "id": "75ea6b68",
   "metadata": {},
   "source": [
    "- Length of a string: **len**(“Angela”) *(= 6)*\n",
    "- Counting specific character: a = “banana”, a.**count**(‘n’) *(= 2)*\n",
    "- Find the first index of a character: a = “awesome”, a.**find**(‘e’) *(= 2)*, a.**find**(‘q’) *(=-1)*\n",
    "- Find the first index of a character: a = “awesome”, a.**index**(‘e’) *(= 2)*, a.**index**(‘q’) *(= error)*\n",
    "- Insert a certain string in between a string, list, etc: “,”.**join**(‘abcd’) *(= ‘a,b,c,d’)*\n",
    "- Change string to upper/lower case: a = “Hi”, a.**upper()** *(= “HI”)*, a.**lower()** *(= “hi”)*\n",
    "- Erase blank space in string: a = “  Hi  ”, a.**lstrip()** *(= “Hi  ”)*, a.**rstrip()** *(= “  Hi”)*, a.**strip()** *(= “Hi”)*\n",
    "- Replace characters in string: a = “she is beautiful”, a.**replace**(“beautiful”, “pretty”) *(= “she is pretty”)*\n",
    "- Split string into a list: a = “I am Eric”, a.**split**() *(= [“I”, “am”, “Eric”])*, b = “banana nana”, b.**split**(“n”) *(= [“ba”, “a”, “a ”, “a”, “a”])*"
   ]
  },
  {
   "cell_type": "code",
   "execution_count": 21,
   "id": "574e96e3",
   "metadata": {},
   "outputs": [
    {
     "name": "stdout",
     "output_type": "stream",
     "text": [
      "6\n",
      "2\n",
      "3 -1\n",
      "A,n,g,e,l,a\n",
      "ANGELA angela\n",
      "Hi   Hi Hi\n",
      "Antarctica\n",
      "['my', 'name', 'is', 'Eric'] ['ba', 'a', 'a']\n"
     ]
    }
   ],
   "source": [
    "a = 'Angela'\n",
    "b = 'banana'\n",
    "c = ' Hi '\n",
    "d = 'my name is Eric'\n",
    "\n",
    "print(len(a))\n",
    "print(b.count('n'))\n",
    "print(a.find('e'), a.find('q'))\n",
    "print(','.join(a))\n",
    "print(a.upper(), a.lower())\n",
    "print(c.lstrip(), c.rstrip(), c.strip())\n",
    "print(a.replace('gel', 'tarctic'))\n",
    "print(d.split(), b.split('n'))"
   ]
  },
  {
   "cell_type": "markdown",
   "id": "15ea8cf9",
   "metadata": {},
   "source": [
    "## 1.3 List(리스트형)"
   ]
  },
  {
   "cell_type": "markdown",
   "id": "26e668e2",
   "metadata": {},
   "source": [
    "- List is a set of objects. a = [1, “a”, [3, 4]]. \n",
    "- An empty list can be defined by: a = **list**()."
   ]
  },
  {
   "cell_type": "markdown",
   "id": "7f29dc40",
   "metadata": {},
   "source": [
    "### 1.3.1 List Functions"
   ]
  },
  {
   "cell_type": "markdown",
   "id": "76d28463",
   "metadata": {},
   "source": [
    "- Indexing, slicing, addition and multiplication of lists works the same as strings.\n",
    "- Length of a list: a = [1, 2, 3], **len**(a) *(= 3)*\n",
    "- Delete element of a list: a = [1, 2, 3], **del** a[2] *(a = [1, 2])*\n",
    "- Add an element at the end of a list: a = [1, 2, 3], a.**append**(5) *(a = [1, 2, 3, 5])*\n",
    "- Sort a list in ascending order: a = [2, 3, 5, 1], a.**sort**() *(a = [1, 2, 3, 5])*\n",
    "- Reverse a list: a = [1, 2, 3, 4], a.**reverse**() *(a = [4, 3, 2, 1])*\n",
    "- Return the index of a specific element within a list: a = [1, 2, 3], a.**index**(2) *(= 1)*, a.**index(4)** *(= error)*\n",
    "- Remove the first specific element within a list: a = [1, 2, 3, 2], a.**remove**(2) *(a = [1, 3, 2])*\n",
    "- Return the number of occurrence of an element within a list: a = [1, 2, 3, 1], a.**count**(1) *(= 2)*\n",
    "- Extend a list to an existing list: a = [1, 2, 3], b = [“a”, “b”], a.**extend**(b) *(a = [1, 2, 3, “a”, “b”])*"
   ]
  },
  {
   "cell_type": "code",
   "execution_count": 24,
   "id": "933a0161",
   "metadata": {},
   "outputs": [
    {
     "name": "stdout",
     "output_type": "stream",
     "text": [
      "length of a:  4\n",
      "removed element in index 2, a =  [1, 2, 4]\n",
      "appended element 5, a =  [1, 2, 4, 5]\n",
      "sorted the list, a =  [1, 2, 4, 5]\n",
      "reversed the list, a =  [5, 4, 2, 1]\n",
      "index of element 2:  2 index of element 5:  0\n",
      "removed the first occuring 2 in the list, a =  [5, 4, 1]\n",
      "numer of occurence of element 1 :  1\n",
      "extended the list [5, 6], a =  [5, 4, 1, 5, 6]\n"
     ]
    }
   ],
   "source": [
    "a = [1, 2, 3, 4]\n",
    "\n",
    "print('length of a: ',len(a))\n",
    "del a[2]\n",
    "print('removed element in index 2, a = ', a)\n",
    "a.append(5)\n",
    "print('appended element 5, a = ', a)\n",
    "a.sort()\n",
    "print('sorted the list, a = ', a)\n",
    "a.reverse()\n",
    "print('reversed the list, a = ', a)\n",
    "print('index of element 2: ', a.index(2), 'index of element 5: ', a.index(5))\n",
    "a.remove(2)\n",
    "print('removed the first occuring 2 in the list, a = ', a)\n",
    "print('numer of occurence of element 1 : ', a.count(1))\n",
    "a.extend([5, 6])\n",
    "print('extended the list [5, 6], a = ', a)"
   ]
  },
  {
   "cell_type": "markdown",
   "id": "ccd91229",
   "metadata": {},
   "source": [
    "## 1.4 Tuple"
   ]
  },
  {
   "cell_type": "markdown",
   "id": "ba6e2848",
   "metadata": {},
   "source": [
    "- Tuples are similar to lists but with several differences.\n",
    "- While lists are written in **[]**, tuples are written in **()**. \n",
    "- While elements in lists can be edited, removed or added, elements in tuples cannot be altered.\n",
    "- Tuple works the same as lists, except for altering elements within tuples."
   ]
  },
  {
   "cell_type": "markdown",
   "id": "fc71f8f6",
   "metadata": {},
   "source": [
    "## 1.5 Dictionary"
   ]
  },
  {
   "cell_type": "markdown",
   "id": "49ab2c6c",
   "metadata": {},
   "source": [
    "- Dictionaries, also known as associative arrays or hash, is a data type that holds ‘keys’ and ‘values’ as a pair.\n",
    "- The difference that dictionaries have compared to lists and tuples is that they can obtain values from keys, rather than sequential search.\n",
    "- A standard dictionary has the following format: {key1: value1, key2: value2, key3: value3, …}\n",
    "- An empty dictionary can be defined by: a = **{}**\n",
    "- The key value in a dictionary is unique, therefore assigning multiple values for the same key would only result in returning one value.\n",
    "- Lists cannot be used as keys."
   ]
  },
  {
   "cell_type": "markdown",
   "id": "be3c1864",
   "metadata": {},
   "source": [
    "### 1.5.1 Dictionary Functions"
   ]
  },
  {
   "cell_type": "markdown",
   "id": "566da7d4",
   "metadata": {},
   "source": [
    "- Adding element to dictionary: a = {1: ‘a’}, a[‘eric’] = 23 *(a = {1: ‘a’, ‘eric’: 23})*\n",
    "- Removing element from dictionary: a = {‘name’: ‘Eric’, ‘Age’: 23, ‘Gender’: ‘male’}, **del** a[‘Gender’] ((a = {‘name’: ‘Eric’, ‘Age’: 23})(\n",
    "- Remove an element by key and return its value: a = {‘name’: ‘Eric’, ‘Age’: 23, ‘Gender’: ‘male’}, a.**pop**(‘Gender’) *(= ‘male’, a = {‘name’: ‘Eric’, ‘Age’: 23})*\n",
    "- Return keys of a dictionary: a = {‘name’: ‘Eric’, ‘Age’: 23, ‘Gender’: ‘male’}, a.**keys**() *(= dict_keys([‘name’, ‘Age’, ‘Gender’]))*\n",
    "- Return Values of a dictionary: a = {‘name’: ‘Eric’, ‘Age’: 23, ‘Gender’: ‘male’}, a.**values**() *(= dict_values([‘Eric’, 23, ‘male’]))*\n",
    "- Return a certain value with a key: a = {‘name’: ‘Eric’, ‘Age’: 23, ‘Gender’: ‘male’}, a.**get**(‘name’) *(= ‘Eric’, a.get(‘birthday’) = None)* \n",
    "- Check if a certain key is in the dictionary: a = {‘name’: ‘Eric’, ‘Age’: 23, ‘Gender’: ‘male’}, ‘name’ **in** a *(= True)*"
   ]
  },
  {
   "cell_type": "code",
   "execution_count": 5,
   "id": "a7874a39",
   "metadata": {},
   "outputs": [
    {
     "name": "stdout",
     "output_type": "stream",
     "text": [
      "{'name': 'a', 'age': 24, 'gender': 'male', 'wife': 'Angela'}\n",
      "{'name': 'a', 'age': 24, 'wife': 'Angela'}\n",
      "Keys of dictionary 'Eric':  dict_keys(['name', 'age', 'wife'])\n",
      "Values of dictionary 'Eric':  dict_values(['a', 24, 'Angela'])\n",
      "Value corresponding to key 'wife':  Angela\n",
      "Is key 'gender' in dictonary 'Eric'?:  False\n"
     ]
    }
   ],
   "source": [
    "Eric = {'name': 'a', 'age': 24, 'gender': 'male'}\n",
    "\n",
    "Eric['wife'] = 'Angela'\n",
    "print(Eric)\n",
    "del Eric['gender']\n",
    "print(Eric)\n",
    "print('Keys of dictionary \\'Eric\\': ', Eric.keys())\n",
    "print('Values of dictionary \\'Eric\\': ', Eric.values())\n",
    "print('Value corresponding to key \\'wife\\': ', Eric.get('wife'))\n",
    "print('Is key \\'gender\\' in dictonary \\'Eric\\'?: ', 'gender' in Eric)"
   ]
  },
  {
   "cell_type": "markdown",
   "id": "a3d34d50",
   "metadata": {},
   "source": [
    "## 1.6 Set (집합)"
   ]
  },
  {
   "cell_type": "markdown",
   "id": "49fbc59e",
   "metadata": {},
   "source": [
    "- Sets are unordered, no duplicate group of objects.\n",
    "- Set can be created by the following command: a = **set**([1, 2, 3]), b = **set**([2, 3, 4])\n",
    "- Intersection of two sets: a **&** b, a.**intersection**(b) *(= {2, 3})*\n",
    "- Union of two sets: a.**union**(b) *(= {1, 2, 3, 4})*\n",
    "- Difference of two sets: a.**difference**(b) *(= {1})*\n",
    "- Add a value to a set: a.**add**(5) *(a = {1, 2, 3, 5})*\n",
    "- Add values to a set: a.**update**([5, 6, 7]) *(a = {1, 2, 3, 5, 6, 7})*\n",
    "- Remove a certain value: a.**remove**(2) *(a = {1, 3})*"
   ]
  },
  {
   "cell_type": "code",
   "execution_count": 7,
   "id": "105d9af1",
   "metadata": {},
   "outputs": [
    {
     "name": "stdout",
     "output_type": "stream",
     "text": [
      "Intersection of two sets a & b:  {2, 3}\n",
      "Union of two set a & b:  {1, 2, 3, 4}\n",
      "Difference of two set a & b:  {1} {4}\n",
      "Add value 5 to set a:  {1, 2, 3, 5}\n",
      "Add values 7, 8, 9 to set a:  {1, 2, 3, 5, 7, 8, 9}\n",
      "Remove value 2 from set a:  {1, 3, 5, 7, 8, 9}\n"
     ]
    }
   ],
   "source": [
    "a = set([1, 2, 3])\n",
    "b = set([2, 3, 4])\n",
    "print('Intersection of two sets a & b: ', a.intersection(b))\n",
    "print('Union of two set a & b: ', a.union(b))\n",
    "print('Difference of two set a & b: ', a.difference(b), b.difference(a))\n",
    "a.add(5)\n",
    "print('Add value 5 to set a: ', a)\n",
    "a.update([7, 8, 9])\n",
    "print('Add values 7, 8, 9 to set a: ', a)\n",
    "a.remove(2)\n",
    "print('Remove value 2 from set a: ', a)"
   ]
  },
  {
   "cell_type": "markdown",
   "id": "f346722c",
   "metadata": {},
   "source": [
    "## 1.7 Boolean"
   ]
  },
  {
   "cell_type": "markdown",
   "id": "3dff9ae4",
   "metadata": {},
   "source": [
    "- Boolean has two values: True and False."
   ]
  },
  {
   "cell_type": "markdown",
   "id": "46dbe81f",
   "metadata": {},
   "source": [
    "## 1.8 Assigning Variables"
   ]
  },
  {
   "cell_type": "markdown",
   "id": "33645c54",
   "metadata": {},
   "source": [
    "- We can assign an object to a variable by the following syntax: a = [1, 2, 3]. The following code makes a list object [1, 2, 3], automatically stores it in memory, and variable 'a' would point to the address of the memory.\n",
    "- The address which the variable points to can be found by the following code: id(a)\n",
    "- If we copy a list and assign it into a new variable (b = a), it actually means to point to the same memory address. Hence, if we change a value in a (a[1] = 3), the value in b is also changed\n",
    "- In order to avoid this problem, we can copy a list by the following code: b = a[:]"
   ]
  },
  {
   "cell_type": "code",
   "execution_count": 17,
   "id": "633c73b5",
   "metadata": {},
   "outputs": [
    {
     "name": "stdout",
     "output_type": "stream",
     "text": [
      "print list 'a' and its memory id:  [1, 2, 3] 1742906840896\n",
      "print list 'b' and its memory id:  [1, 2, 3] 1742906840896\n",
      "print list 'a' and 'b' and their memory ids:  [1, 5, 3] [1, 5, 3] 1742906840896 1742906840896\n",
      "print list 'a' and 'b' and their memory ids:  [1, 2, 3] [1, 2, 3] 1742906071232 1742906846144\n",
      "print list 'a' and 'b' and their memory ids:  [1, 5, 3] [1, 2, 3] 1742906071232 1742906846144\n",
      "print list 'a' and 'b' and their memory ids:  [1, 5, 3] [1, 5, 3] 1742906840896 1742906840896\n"
     ]
    }
   ],
   "source": [
    "a = [1, 2, 3]\n",
    "print('print list \\'a\\' and its memory id: ', a, id(a))\n",
    "b = a\n",
    "print('print list \\'b\\' and its memory id: ', b, id(b))\n",
    "a[1] = 5\n",
    "print('print list \\'a\\' and \\'b\\' and their memory ids: ', a, b, id(a), id(b))\n",
    "\n",
    "a = [1, 2, 3]\n",
    "b = a[:]\n",
    "print('print list \\'a\\' and \\'b\\' and their memory ids: ', a, b, id(a), id(b))\n",
    "a[1] = 5\n",
    "print('print list \\'a\\' and \\'b\\' and their memory ids: ', a, b, id(a), id(b))\n",
    "\n",
    "a = [1, 2, 3]\n",
    "b = a\n",
    "b[1] = 5\n",
    "print('print list \\'a\\' and \\'b\\' and their memory ids: ', a, b, id(a), id(b))\n"
   ]
  },
  {
   "cell_type": "markdown",
   "id": "9904f0c0",
   "metadata": {},
   "source": [
    "# 2. Statements (제어문)"
   ]
  },
  {
   "cell_type": "markdown",
   "id": "d2a953e1",
   "metadata": {},
   "source": [
    "## 2.1 if statement"
   ]
  },
  {
   "cell_type": "markdown",
   "id": "3d71c4cf",
   "metadata": {},
   "source": [
    "- Remember to add ‘:’ after each if and else statement\n",
    "- If you don’t want to execute any statement, just write pass"
   ]
  },
  {
   "cell_type": "code",
   "execution_count": 5,
   "id": "93991f62",
   "metadata": {},
   "outputs": [
    {
     "name": "stdout",
     "output_type": "stream",
     "text": [
      "x is 3\n",
      "y is smaller than or equal to 3\n"
     ]
    }
   ],
   "source": [
    "x = 3\n",
    "y = 3\n",
    "z = 3\n",
    "\n",
    "if (x>0):\n",
    "    print(f'x is {x}')\n",
    "    \n",
    "if (y>5):\n",
    "    print(y)\n",
    "elif(y>3):\n",
    "    pass\n",
    "else:\n",
    "    print('y is smaller than or equal to 3')\n",
    "    \n",
    "if (z>3):\n",
    "    print(y)\n",
    "elif(z>2):\n",
    "    pass\n",
    "else:\n",
    "    print('z is smaller than or equal to 2')"
   ]
  },
  {
   "cell_type": "markdown",
   "id": "704c8539",
   "metadata": {},
   "source": [
    "## 2.2 in statement"
   ]
  },
  {
   "cell_type": "markdown",
   "id": "c075c1f8",
   "metadata": {},
   "source": [
    "- A statement that returns true if an element is in a list: 1 in [1, 2, 3] (= True)"
   ]
  },
  {
   "cell_type": "code",
   "execution_count": 6,
   "id": "03b4576b",
   "metadata": {},
   "outputs": [
    {
     "name": "stdout",
     "output_type": "stream",
     "text": [
      "element 1 is in list numbers\n",
      "element 11 is not in list numbers\n"
     ]
    }
   ],
   "source": [
    "numbers = [1, 2, 3, 4, 5]\n",
    "\n",
    "if(1 in numbers):\n",
    "    print('element 1 is in list numbers')\n",
    "else:\n",
    "    print('element 1 is not in list numbers')\n",
    "\n",
    "\n",
    "if(11 in numbers):\n",
    "    print('element 11 is in list numbers')\n",
    "else:\n",
    "    print('element 11 is not in list numbers')"
   ]
  },
  {
   "cell_type": "markdown",
   "id": "11c8ca7d",
   "metadata": {},
   "source": [
    "## 2.3 while statement"
   ]
  },
  {
   "cell_type": "markdown",
   "id": "0367deae",
   "metadata": {},
   "source": [
    "- you can stop the while loop with command break\n",
    "- you can skip the remainder of statements and go back to the beginning of while loop with continue"
   ]
  },
  {
   "cell_type": "code",
   "execution_count": 7,
   "id": "05c52810",
   "metadata": {},
   "outputs": [
    {
     "name": "stdout",
     "output_type": "stream",
     "text": [
      "current value of x is 10120109\n",
      "current value of x is 5060054\n",
      "current value of x is 2530027\n",
      "current value of x is 1265013\n",
      "current value of x is 632506\n",
      "current value of x is 316253\n",
      "current value of x is 158126\n",
      "current value of x is 79063\n"
     ]
    }
   ],
   "source": [
    "x = 20240219\n",
    "\n",
    "cond = True\n",
    "\n",
    "while(cond):\n",
    "    x //= 2\n",
    "    print(f'current value of x is {x}')\n",
    "    if (x>100000):\n",
    "        continue\n",
    "    else:\n",
    "        break\n",
    "        "
   ]
  },
  {
   "cell_type": "markdown",
   "id": "3e079ab9",
   "metadata": {},
   "source": [
    "## 2.4 for statement"
   ]
  },
  {
   "cell_type": "code",
   "execution_count": null,
   "id": "56258db4",
   "metadata": {},
   "outputs": [],
   "source": [
    "- for loop uses the combination of in function"
   ]
  },
  {
   "cell_type": "code",
   "execution_count": null,
   "id": "2d2c1c93",
   "metadata": {},
   "outputs": [],
   "source": []
  },
  {
   "cell_type": "markdown",
   "id": "c03d45af",
   "metadata": {},
   "source": [
    "# 3. Function (함수)"
   ]
  },
  {
   "cell_type": "code",
   "execution_count": null,
   "id": "57a9f597",
   "metadata": {},
   "outputs": [],
   "source": []
  },
  {
   "cell_type": "markdown",
   "id": "5c04129e",
   "metadata": {},
   "source": [
    "## 3.1 Various functions"
   ]
  },
  {
   "cell_type": "markdown",
   "id": "3a554826",
   "metadata": {},
   "source": [
    "- input()"
   ]
  },
  {
   "cell_type": "code",
   "execution_count": null,
   "id": "4edca8ef",
   "metadata": {},
   "outputs": [],
   "source": []
  },
  {
   "cell_type": "markdown",
   "id": "33b8242d",
   "metadata": {},
   "source": [
    "# 4. Class"
   ]
  },
  {
   "cell_type": "code",
   "execution_count": null,
   "id": "e1731cb4",
   "metadata": {},
   "outputs": [],
   "source": []
  },
  {
   "cell_type": "markdown",
   "id": "0c4db8cb",
   "metadata": {},
   "source": [
    "# 5. Module"
   ]
  },
  {
   "cell_type": "code",
   "execution_count": null,
   "id": "5e9f172f",
   "metadata": {},
   "outputs": [],
   "source": []
  },
  {
   "cell_type": "markdown",
   "id": "621cb056",
   "metadata": {},
   "source": [
    "# 6. Package"
   ]
  },
  {
   "cell_type": "code",
   "execution_count": null,
   "id": "7d2e5bc8",
   "metadata": {},
   "outputs": [],
   "source": []
  }
 ],
 "metadata": {
  "kernelspec": {
   "display_name": "Python 3",
   "language": "python",
   "name": "python3"
  },
  "language_info": {
   "codemirror_mode": {
    "name": "ipython",
    "version": 3
   },
   "file_extension": ".py",
   "mimetype": "text/x-python",
   "name": "python",
   "nbconvert_exporter": "python",
   "pygments_lexer": "ipython3",
   "version": "3.8.8"
  }
 },
 "nbformat": 4,
 "nbformat_minor": 5
}
